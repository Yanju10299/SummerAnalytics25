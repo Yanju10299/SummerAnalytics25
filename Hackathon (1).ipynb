{
  "cells": [
    {
      "cell_type": "code",
      "execution_count": null,
      "metadata": {
        "colab": {
          "base_uri": "https://localhost:8080/"
        },
        "id": "E3JZAdfAgfO5",
        "outputId": "11aff1c6-c9a9-4772-974e-a7756235b9a8"
      },
      "outputs": [
        {
          "name": "stdout",
          "output_type": "stream",
          "text": [
            "Requirement already satisfied: xgboost in /usr/local/lib/python3.11/dist-packages (2.1.4)\n",
            "Requirement already satisfied: numpy in /usr/local/lib/python3.11/dist-packages (from xgboost) (2.0.2)\n",
            "Requirement already satisfied: nvidia-nccl-cu12 in /usr/local/lib/python3.11/dist-packages (from xgboost) (2.21.5)\n",
            "Requirement already satisfied: scipy in /usr/local/lib/python3.11/dist-packages (from xgboost) (1.15.3)\n"
          ]
        }
      ],
      "source": [
        "#using xgboost\n",
        "!pip install xgboost\n"
      ]
    },
    {
      "cell_type": "code",
      "execution_count": 2,
      "metadata": {
        "colab": {
          "base_uri": "https://localhost:8080/"
        },
        "id": "DmEx3rPxzW59",
        "outputId": "0d7e7bde-b6f9-45ad-a5af-481b79051261"
      },
      "outputs": [
        {
          "output_type": "stream",
          "name": "stderr",
          "text": [
            "/usr/local/lib/python3.11/dist-packages/xgboost/core.py:158: UserWarning: [13:45:52] WARNING: /workspace/src/learner.cc:740: \n",
            "Parameters: { \"use_label_encoder\" } are not used.\n",
            "\n",
            "  warnings.warn(smsg, UserWarning)\n"
          ]
        },
        {
          "output_type": "stream",
          "name": "stdout",
          "text": [
            "\n",
            "✅ Best Parameters: {'colsample_bytree': 0.8, 'gamma': 0, 'learning_rate': 0.05, 'max_depth': 8, 'n_estimators': 300, 'reg_alpha': 0, 'reg_lambda': 1, 'subsample': 0.9}\n",
            "✅ Best Cross-Validation Accuracy: 0.8498180040960716\n"
          ]
        },
        {
          "output_type": "stream",
          "name": "stderr",
          "text": [
            "/usr/local/lib/python3.11/dist-packages/xgboost/core.py:158: UserWarning: [13:45:54] WARNING: /workspace/src/learner.cc:740: \n",
            "Parameters: { \"use_label_encoder\" } are not used.\n",
            "\n",
            "  warnings.warn(smsg, UserWarning)\n"
          ]
        },
        {
          "output_type": "stream",
          "name": "stdout",
          "text": [
            "\n",
            "✅ Final Validation Accuracy: 0.8689024390243902\n",
            "\n",
            "📁 submission.csv saved!\n"
          ]
        }
      ],
      "source": [
        "# 📦 Imports\n",
        "import pandas as pd\n",
        "import numpy as np\n",
        "from sklearn.model_selection import StratifiedKFold, GridSearchCV, train_test_split\n",
        "from sklearn.preprocessing import StandardScaler\n",
        "from sklearn.metrics import accuracy_score\n",
        "from imblearn.over_sampling import SMOTE\n",
        "import xgboost as xgb\n",
        "from sklearn.metrics import f1_score\n",
        "\n",
        "# ✅ Load Data\n",
        "train = pd.read_csv(\"Train_Data.csv\")\n",
        "test = pd.read_csv(\"Test_Data.csv\")\n",
        "\n",
        "# 🧹 Drop rows with missing target\n",
        "df = train.dropna(subset=['age_group'])\n",
        "X = df.drop(['SEQN', 'age_group'], axis=1)\n",
        "y = df['age_group'].map({'Adult': 0, 'Senior': 1})\n",
        "\n",
        "# 🧪 Feature Engineering (Train)\n",
        "X['GLU_ratio'] = X['LBXGLU'] / (X['LBXGLT'] + 1e-5)\n",
        "X['BMI_INS'] = X['BMXBMI'] * X['LBXIN']\n",
        "X['active_diabetic'] = ((X['PAQ605'] == 1) & (X['DIQ010'] == 1)).astype(int)\n",
        "X['high_glucose'] = (X['LBXGLU'] > 140).astype(int)\n",
        "X['high_bmi'] = (X['BMXBMI'] > 30).astype(int)\n",
        "X['insulin_resistant'] = (X['LBXIN'] > 100).astype(int)\n",
        "\n",
        "# 🧪 Feature Engineering (Test)\n",
        "X_test_final = test.drop(['SEQN'], axis=1)\n",
        "X_test_final['GLU_ratio'] = X_test_final['LBXGLU'] / (X_test_final['LBXGLT'] + 1e-5)\n",
        "X_test_final['BMI_INS'] = X_test_final['BMXBMI'] * X_test_final['LBXIN']\n",
        "X_test_final['active_diabetic'] = ((X_test_final['PAQ605'] == 1) & (X_test_final['DIQ010'] == 1)).astype(int)\n",
        "X_test_final['high_glucose'] = (X_test_final['LBXGLU'] > 140).astype(int)\n",
        "X_test_final['high_bmi'] = (X_test_final['BMXBMI'] > 30).astype(int)\n",
        "X_test_final['insulin_resistant'] = (X_test_final['LBXIN'] > 100).astype(int)\n",
        "\n",
        "# 🧼 Fill missing values\n",
        "X = X.fillna(X.median())\n",
        "X_test_final = X_test_final.fillna(X_test_final.median())\n",
        "X_test_final = X_test_final[X.columns]  # Ensure same order\n",
        "\n",
        "# 🔃 Scale\n",
        "scaler = StandardScaler()\n",
        "X_scaled = scaler.fit_transform(X)\n",
        "X_test_scaled = scaler.transform(X_test_final)\n",
        "\n",
        "# ⚖️ SMOTE\n",
        "smote = SMOTE(random_state=42)\n",
        "X_resampled, y_resampled = smote.fit_resample(X_scaled, y)\n",
        "\n",
        "# 🔍 XGBoost Grid Search\n",
        "xgb_model = xgb.XGBClassifier(use_label_encoder=False, eval_metric='logloss', random_state=42)\n",
        "\n",
        "param_grid = {\n",
        "    'max_depth': [6, 8],\n",
        "    'n_estimators': [200, 300],\n",
        "    'learning_rate': [0.01, 0.05],\n",
        "    'subsample': [0.9],\n",
        "    'colsample_bytree': [0.8],\n",
        "    'gamma': [0, 1],\n",
        "    'reg_alpha': [0, 0.5],\n",
        "    'reg_lambda': [1, 2]\n",
        "}\n",
        "\n",
        "cv = StratifiedKFold(n_splits=5, shuffle=True, random_state=42)\n",
        "grid = GridSearchCV(xgb_model, param_grid, cv=cv, scoring='accuracy', n_jobs=-1)\n",
        "grid.fit(X_resampled, y_resampled)\n",
        "\n",
        "print(\"\\n✅ Best Parameters:\", grid.best_params_)\n",
        "print(\"✅ Best Cross-Validation Accuracy:\", grid.best_score_)\n",
        "\n",
        "# 🧪 Final train-test evaluation\n",
        "X_train, X_val, y_train, y_val = train_test_split(X_resampled, y_resampled, test_size=0.2, random_state=42)\n",
        "final_model = grid.best_estimator_\n",
        "final_model.fit(X_train, y_train)\n",
        "val_preds = final_model.predict(X_val)\n",
        "print(\"\\n✅ Final Validation Accuracy:\", accuracy_score(y_val, val_preds))\n",
        "\n",
        "# 📤 Predict on Test Set\n",
        "test_preds = final_model.predict(X_test_scaled)\n",
        "submission = pd.DataFrame({'age_group': test_preds})\n",
        "submission.to_csv(\"submission.csv\", index=False)\n",
        "print(\"\\n📁 submission.csv saved!\")\n"
      ]
    },
    {
      "cell_type": "code",
      "execution_count": 5,
      "metadata": {
        "colab": {
          "base_uri": "https://localhost:8080/"
        },
        "id": "KjuA9fNG0MM2",
        "outputId": "6f85fba7-a551-4e0d-fad7-d2a54ae28078"
      },
      "outputs": [
        {
          "output_type": "stream",
          "name": "stdout",
          "text": [
            "F1 Score: 0.8680981595092024\n"
          ]
        }
      ],
      "source": [
        "score = f1_score(y_val, val_preds)\n",
        "print(\"F1 Score:\", score)"
      ]
    },
    {
      "cell_type": "code",
      "execution_count": null,
      "metadata": {
        "id": "cAWhIxlgHYgH"
      },
      "outputs": [],
      "source": []
    }
  ],
  "metadata": {
    "colab": {
      "provenance": []
    },
    "kernelspec": {
      "display_name": "Python 3",
      "name": "python3"
    },
    "language_info": {
      "name": "python"
    }
  },
  "nbformat": 4,
  "nbformat_minor": 0
}